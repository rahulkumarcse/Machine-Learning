{
 "cells": [
  {
   "cell_type": "code",
   "execution_count": 1,
   "metadata": {},
   "outputs": [],
   "source": [
    "\n",
    "# General:\n",
    "import tweepy           # To consume Twitter's API\n",
    "import pandas as pd     # To handle data\n",
    "import numpy as np      # For number computing\n",
    "\n",
    "# For plotting and visualization:\n",
    "from IPython.display import display\n",
    "import matplotlib.pyplot as plt\n",
    "import seaborn as sns\n",
    "%matplotlib inline"
   ]
  },
  {
   "cell_type": "code",
   "execution_count": 2,
   "metadata": {},
   "outputs": [],
   "source": [
    "from textblob import TextBlob"
   ]
  },
  {
   "cell_type": "code",
   "execution_count": 14,
   "metadata": {},
   "outputs": [],
   "source": [
    "consumer_key='dW0F96tqOys7GeEbXczkMhWK7'\n",
    "consumer_secret='S8gdszGzumbWaxHqSeYzahSAyYKtVaRRnhDNAyfdP68RCTvtbe'\n",
    "access_token= '1003350233600819200-J6409cpQx93VWr2hG6hrqk6o838FO3'\n",
    "access_token_secret='mAliMGs8Vf9gBAiRxHMNpaOLsckiNU8jDQYHGtsRxtOIb'\n",
    "auth= tweepy.OAuthHandler(consumer_key,consumer_secret)\n",
    "auth.set_access_token(access_token,access_token_secret)\n",
    "api= tweepy.API(auth)"
   ]
  },
  {
   "cell_type": "code",
   "execution_count": 19,
   "metadata": {},
   "outputs": [
    {
     "name": "stdout",
     "output_type": "stream",
     "text": [
      "Number of tweets extracted: 199.\n",
      "\n",
      "5 recent tweets:\n",
      "\n",
      "RT @ANI: PM Narendra Modi handed over Union Minister Mukhtar Abbas Naqvi, the 'chaadar' to be offered at Dargah of Khwaja Moinuddin Chishti…\n",
      "\n",
      "RT @aajtak: क़यास लगाए जा रहे हैं कि आम आदमी पार्टी के मुखिया और दिल्ली के मुख्यमंत्री अरविंद केजरीवाल प्रधानमंत्री नरेंद्र मोदी को वाराणसी…\n",
      "\n",
      "RT @sambitswaraj: It’s not just the not yet formed “महागठबंधन” that desperately wants to stop India from having Modi as it’s PM in 2019 ..t…\n",
      "\n",
      "RT @sambitswaraj: It’s not just the not yet formed “महागठबंधन” that desperately wants to stop India from having Modi as it’s PM in 2019 ..t…\n",
      "\n",
      "RT @CTRavi_BJP: Scenario in 2019:\n",
      "\n",
      "Vote CONgress to defeat Modi\n",
      "Vote TMC to defeat Modi\n",
      "Vote SP to defeat Modi\n",
      "Vote BSP to defeat Modi\n",
      "Vote…\n",
      "\n"
     ]
    },
    {
     "data": {
      "text/html": [
       "<div>\n",
       "<style scoped>\n",
       "    .dataframe tbody tr th:only-of-type {\n",
       "        vertical-align: middle;\n",
       "    }\n",
       "\n",
       "    .dataframe tbody tr th {\n",
       "        vertical-align: top;\n",
       "    }\n",
       "\n",
       "    .dataframe thead th {\n",
       "        text-align: right;\n",
       "    }\n",
       "</style>\n",
       "<table border=\"1\" class=\"dataframe\">\n",
       "  <thead>\n",
       "    <tr style=\"text-align: right;\">\n",
       "      <th></th>\n",
       "      <th>Tweets</th>\n",
       "    </tr>\n",
       "  </thead>\n",
       "  <tbody>\n",
       "    <tr>\n",
       "      <th>0</th>\n",
       "      <td>RT @CTRavi_BJP: Scenario in 2019:\\n\\nVote CONg...</td>\n",
       "    </tr>\n",
       "  </tbody>\n",
       "</table>\n",
       "</div>"
      ],
      "text/plain": [
       "                                              Tweets\n",
       "0  RT @CTRavi_BJP: Scenario in 2019:\\n\\nVote CONg..."
      ]
     },
     "metadata": {},
     "output_type": "display_data"
    }
   ],
   "source": [
    "extractor = twitter_setup()\n",
    "public_tweets= api.search('Narendra Modi')\n",
    "print(\"Number of tweets extracted: {}.\\n\".format(len(tweets)))\n",
    "print(\"5 recent tweets:\\n\")\n",
    "for tweet in public_tweets[:5]:\n",
    "    print(tweet.text)\n",
    "    print()\n",
    "data = pd.DataFrame(data=[tweet.text], columns=['Tweets'])\n",
    "display(data.head(10))"
   ]
  },
  {
   "cell_type": "code",
   "execution_count": null,
   "metadata": {},
   "outputs": [],
   "source": []
  }
 ],
 "metadata": {
  "kernelspec": {
   "display_name": "Python 3",
   "language": "python",
   "name": "python3"
  },
  "language_info": {
   "codemirror_mode": {
    "name": "ipython",
    "version": 3
   },
   "file_extension": ".py",
   "mimetype": "text/x-python",
   "name": "python",
   "nbconvert_exporter": "python",
   "pygments_lexer": "ipython3",
   "version": "3.6.4"
  }
 },
 "nbformat": 4,
 "nbformat_minor": 2
}
