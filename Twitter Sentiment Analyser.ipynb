{
 "cells": [
  {
   "cell_type": "code",
   "execution_count": 31,
   "metadata": {},
   "outputs": [],
   "source": [
    "\n",
    "# General:\n",
    "import tweepy           # To consume Twitter's API\n",
    "import pandas as pd     # To handle data\n",
    "import numpy as np      # For number computing\n",
    "\n",
    "# For plotting and visualization:\n",
    "from IPython.display import display\n",
    "import matplotlib.pyplot as plt\n",
    "import seaborn as sns\n",
    "%matplotlib inline"
   ]
  },
  {
   "cell_type": "code",
   "execution_count": 32,
   "metadata": {},
   "outputs": [],
   "source": [
    "from textblob import TextBlob"
   ]
  },
  {
   "cell_type": "code",
   "execution_count": 33,
   "metadata": {},
   "outputs": [],
   "source": [
    "consumer_key='dW0F96tqOys7GeEbXczkMhWK7'\n",
    "consumer_secret='S8gdszGzumbWaxHqSeYzahSAyYKtVaRRnhDNAyfdP68RCTvtbe'\n",
    "access_token= '1003350233600819200-J6409cpQx93VWr2hG6hrqk6o838FO3'\n",
    "access_token_secret='mAliMGs8Vf9gBAiRxHMNpaOLsckiNU8jDQYHGtsRxtOIb'\n",
    "auth= tweepy.OAuthHandler(consumer_key,consumer_secret)"
   ]
  },
  {
   "cell_type": "code",
   "execution_count": 34,
   "metadata": {},
   "outputs": [],
   "source": [
    "auth.set_access_token(access_token,access_token_secret)"
   ]
  },
  {
   "cell_type": "code",
   "execution_count": 35,
   "metadata": {},
   "outputs": [],
   "source": [
    "api= tweepy.API(auth)"
   ]
  },
  {
   "cell_type": "code",
   "execution_count": 45,
   "metadata": {},
   "outputs": [],
   "source": [
    "public_tweets= api.search('Narendra Modi')"
   ]
  },
  {
   "cell_type": "code",
   "execution_count": 50,
   "metadata": {},
   "outputs": [
    {
     "name": "stdout",
     "output_type": "stream",
     "text": [
      "RT @cjwerleman: India: \"In the name of Hindutva, the rule of law is made to disappear and mob violence prevails. And because perpetrators o…\n",
      "RT @CTRavi_BJP: Scenario in 2019:\n",
      "\n",
      "Vote CONgress to defeat Modi\n",
      "Vote TMC to defeat Modi\n",
      "Vote SP to defeat Modi\n",
      "Vote BSP to defeat Modi\n",
      "Vote…\n",
      "RT @rajneesh350: आज देश के किसान जाति-धर्म का भेदभाव मिटाकर संघर्ष कर रहे हैं इसलिए मोदी सरकार डर गयी है व इतनी डर गयी है कि बीजेपी शासित…\n",
      "RT @CTRavi_BJP: Scenario in 2019:\n",
      "\n",
      "Vote CONgress to defeat Modi\n",
      "Vote TMC to defeat Modi\n",
      "Vote SP to defeat Modi\n",
      "Vote BSP to defeat Modi\n",
      "Vote…\n",
      "RT @narendramodi_in: Orchid named after PM @narendramodi at National Orchid Garden in Singapore\n",
      "https://t.co/dYcVKfMQyZ \n",
      "\n",
      "via NaMo App http…\n",
      "RT @prof_koya: And it seems that the sartorial exuberance of Narendra Modi ,the scheming  calculations of BJP  chief and the finance coming…\n",
      "RT @vk_bjp: @Ra_THORe @narendramodi EXCELLENT.\n",
      "ONLY DEVELOPMENT INDIA BJP INDIA\n",
      "Honorable Shri NARENDRA MODI JI\n",
      "PRIME MINISTER OF THE IN.\n",
      "J…\n",
      "RT @JhaSanjay: Rahul Gandhi takes questions. Narendra Modi fixes answers. In an ideal world, this is a no-contest.\n",
      "RT @khalidsalmani1: इनकम टैक्स ऑफिस में आग लगने से ललित मोदी और नीरव मोदी से जुड़े दस्तावेज जलकर हुए खाक, लोग बोले- मोदी ने मोदी को बचाया…\n",
      "RT @vinayak_jain: Mamata to skip NITI Aayog meeting as it coincides with Eid. Minority appeasement always above nation. And here these idio…\n",
      "Foreign policy is perhaps the most sensitive to handle and detrimental to the nation-building in the long term;, ho… https://t.co/dzMgUfeP1K\n",
      "RT @CTRavi_BJP: Scenario in 2019:\n",
      "\n",
      "Vote CONgress to defeat Modi\n",
      "Vote TMC to defeat Modi\n",
      "Vote SP to defeat Modi\n",
      "Vote BSP to defeat Modi\n",
      "Vote…\n",
      "RT @cjwerleman: India: \"In the name of Hindutva, the rule of law is made to disappear and mob violence prevails. And because perpetrators o…\n",
      "प्रधानमंत्री मोदी ने सिंगापुर में रुपे कार्ड का उपयोग करते हुए मधुबनी पेंटिंग खरीदी\n",
      "https://t.co/QdUR5uZxo3 https://t.co/8Ksxey4UyG\n",
      "RT @aajtak: क़यास लगाए जा रहे हैं कि आम आदमी पार्टी के मुखिया और दिल्ली के मुख्यमंत्री अरविंद केजरीवाल प्रधानमंत्री नरेंद्र मोदी को वाराणसी…\n"
     ]
    },
    {
     "data": {
      "text/html": [
       "<div>\n",
       "<style scoped>\n",
       "    .dataframe tbody tr th:only-of-type {\n",
       "        vertical-align: middle;\n",
       "    }\n",
       "\n",
       "    .dataframe tbody tr th {\n",
       "        vertical-align: top;\n",
       "    }\n",
       "\n",
       "    .dataframe thead th {\n",
       "        text-align: right;\n",
       "    }\n",
       "</style>\n",
       "<table border=\"1\" class=\"dataframe\">\n",
       "  <thead>\n",
       "    <tr style=\"text-align: right;\">\n",
       "      <th></th>\n",
       "      <th>Tweets</th>\n",
       "    </tr>\n",
       "  </thead>\n",
       "  <tbody>\n",
       "    <tr>\n",
       "      <th>0</th>\n",
       "      <td>RT @aajtak: क़यास लगाए जा रहे हैं कि आम आदमी प...</td>\n",
       "    </tr>\n",
       "  </tbody>\n",
       "</table>\n",
       "</div>"
      ],
      "text/plain": [
       "                                              Tweets\n",
       "0  RT @aajtak: क़यास लगाए जा रहे हैं कि आम आदमी प..."
      ]
     },
     "metadata": {},
     "output_type": "display_data"
    }
   ],
   "source": [
    "for tweet in public_tweets:\n",
    "    print(tweet.text)\n",
    "    analysis= TextBlob(tweet.text)\n",
    "    \n",
    "data = pd.DataFrame(data=[tweet.text], columns=['Tweets'])\n",
    "display(data.head(10))"
   ]
  },
  {
   "cell_type": "code",
   "execution_count": 28,
   "metadata": {},
   "outputs": [
    {
     "name": "stdout",
     "output_type": "stream",
     "text": [
      "RT @JhaSanjay: Rahul Gandhi takes questions. Narendra Modi fixes answers. In an ideal world, this is a no-contest.\n",
      "Sentiment(polarity=0.9, subjectivity=1.0)\n",
      "<class 'textblob.blob.TextBlob'>\n",
      "<class 'textblob.en.sentiments.Sentiment'>\n"
     ]
    }
   ],
   "source": [
    "print(analysis)\n",
    "print(analysis.sentiment)\n",
    "print(type(analysis))\n",
    "print(type(analysis.sentiment))"
   ]
  }
 ],
 "metadata": {
  "kernelspec": {
   "display_name": "Python 3",
   "language": "python",
   "name": "python3"
  },
  "language_info": {
   "codemirror_mode": {
    "name": "ipython",
    "version": 3
   },
   "file_extension": ".py",
   "mimetype": "text/x-python",
   "name": "python",
   "nbconvert_exporter": "python",
   "pygments_lexer": "ipython3",
   "version": "3.6.4"
  }
 },
 "nbformat": 4,
 "nbformat_minor": 2
}
