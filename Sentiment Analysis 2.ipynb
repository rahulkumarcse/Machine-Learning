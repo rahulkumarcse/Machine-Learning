{
 "cells": [
  {
   "cell_type": "code",
   "execution_count": 1,
   "metadata": {},
   "outputs": [],
   "source": [
    "# General:\n",
    "import tweepy           # To consume Twitter's API\n",
    "import pandas as pd     # To handle data\n",
    "import numpy as np      # For number computing\n",
    "\n",
    "# For plotting and visualization:\n",
    "from IPython.display import display\n",
    "import matplotlib.pyplot as plt\n",
    "import seaborn as sns\n",
    "%matplotlib inline"
   ]
  },
  {
   "cell_type": "code",
   "execution_count": 4,
   "metadata": {},
   "outputs": [],
   "source": [
    "CONSUMER_KEY='dW0F96tqOys7GeEbXczkMhWK7'\n",
    "CONSUMER_SECRET='S8gdszGzumbWaxHqSeYzahSAyYKtVaRRnhDNAyfdP68RCTvtbe'\n",
    "ACCESS_TOKEN= '1003350233600819200-J6409cpQx93VWr2hG6hrqk6o838FO3'\n",
    "ACCESS_SECRET='mAliMGs8Vf9gBAiRxHMNpaOLsckiNU8jDQYHGtsRxtOIb'\n",
    "\n",
    "def twitter_setup():\n",
    "    \n",
    "    auth = tweepy.OAuthHandler(CONSUMER_KEY, CONSUMER_SECRET)\n",
    "    auth.set_access_token(ACCESS_TOKEN, ACCESS_SECRET)\n",
    "    api = tweepy.API(auth)\n",
    "    return api"
   ]
  },
  {
   "cell_type": "code",
   "execution_count": 26,
   "metadata": {},
   "outputs": [
    {
     "name": "stdout",
     "output_type": "stream",
     "text": [
      "Number of tweets extracted: 199.\n",
      "\n",
      "5 recent tweets:\n",
      "\n",
      "@officialmcafee @JSaneOfficial John, my idol, pls follow me.\n",
      "\n",
      "RT @Claudiu86bogdan: Vote and retweet ! Let's help our beloved project to be added on another exchange . @Digibyte @Dgb #Digibytecoin https…\n",
      "\n",
      "RT @domain: https://t.co/9FA84WrSel just enjoy discount with the reffer code! https://t.co/X7nnC6qt8g\n",
      "\n",
      "get on the train of MTC right now. the next bitcoin in the field of Telemedical https://t.co/Qah3m0T4Ml\n",
      "\n",
      "https://t.co/aZ6ObWYBdl\n",
      "\n"
     ]
    }
   ],
   "source": [
    "extractor = twitter_setup()\n",
    "tweets = extractor.user_timeline(screen_name=\"India\", count=1000)\n",
    "print(\"Number of tweets extracted: {}.\\n\".format(len(tweets)))\n",
    "print(\"5 recent tweets:\\n\")\n",
    "for tweet in tweets[:5]:\n",
    "    print(tweet.text)\n",
    "    print()\n"
   ]
  },
  {
   "cell_type": "code",
   "execution_count": 43,
   "metadata": {},
   "outputs": [
    {
     "name": "stdout",
     "output_type": "stream",
     "text": [
      "RT @cjwerleman: India: \"In the name of Hindutva, the rule of law is made to disappear and mob violence prevails. And because perpetrators o…\n",
      "RT @davidfrawleyved: Who in the motley crew of opposition leaders would you feel safer than Narendra Modi as PM of India? \n",
      "Rahul, Mamata, L…\n",
      "RT @CTRavi_BJP: Scenario in 2019:\n",
      "\n",
      "Vote CONgress to defeat Modi\n",
      "Vote TMC to defeat Modi\n",
      "Vote SP to defeat Modi\n",
      "Vote BSP to defeat Modi\n",
      "Vote…\n",
      "RT @sambitswaraj: It’s not just the not yet formed “महागठबंधन” that desperately wants to stop India from having Modi as it’s PM in 2019 ..t…\n",
      "RT @INCIndia: If the religious minorities feel deep down in their hearts that their place is that of ‘second-class citizens’, we are not wo…\n",
      "RT @65thakursahab: Poor man to Narendra Damodardas Modi : Sir Diesel is very costly.\n",
      "NDM : Bolo Bharat Mata Ki Jai, and here, take this set…\n",
      "RT @CTRavi_BJP: Scenario in 2019:\n",
      "\n",
      "Vote CONgress to defeat Modi\n",
      "Vote TMC to defeat Modi\n",
      "Vote SP to defeat Modi\n",
      "Vote BSP to defeat Modi\n",
      "Vote…\n",
      "RT @sanjivbhatt: Artificial Intelligence is really awesome.\n",
      "\n",
      "Some Sanghi moron posted on a WhatsApp group that \"Narendra Modi does not have…\n",
      "RT @sambitswaraj: It’s not just the not yet formed “महागठबंधन” that desperately wants to stop India from having Modi as it’s PM in 2019 ..t…\n",
      "RT @MPRakeshSingh: प्रधानमंत्री मोदी ने सिंगापुर में रुपे कार्ड का उपयोग करते हुए मधुबनी पेंटिंग खरीदी\n",
      "https://t.co/9KNhTZgyNq \n",
      "via NaMo Ap…\n",
      "RT @MPRakeshSingh: सिंगापुर के नेशनल ऑर्किड गार्डन में एक ऑर्किड का नाम प्रधानमंत्री मोदी के नाम पर रखा गया\n",
      "https://t.co/DzxG9RtAai \n",
      "via Na…\n",
      "RT @OfficeOfRSP: You can now connect with the Law &amp; IT Minister @rsprasad on Narendra Modi App and share your views with him. \n",
      "\n",
      "Download Na…\n",
      "RT @CTRavi_BJP: Scenario in 2019:\n",
      "\n",
      "Vote CONgress to defeat Modi\n",
      "Vote TMC to defeat Modi\n",
      "Vote SP to defeat Modi\n",
      "Vote BSP to defeat Modi\n",
      "Vote…\n",
      "RT @65thakursahab: Poor man to Narendra Damodardas Modi : Sir Diesel is very costly.\n",
      "NDM : Bolo Bharat Mata Ki Jai, and here, take this set…\n",
      "RT @INCIndia: If the religious minorities feel deep down in their hearts that their place is that of ‘second-class citizens’, we are not wo…\n"
     ]
    }
   ],
   "source": [
    "public_tweets= api.search('Narendra Modi')\n",
    "for tweet in public_tweets:\n",
    "    print(tweet.text)\n",
    "    analysis= TextBlob(tweet.text)"
   ]
  },
  {
   "cell_type": "code",
   "execution_count": 44,
   "metadata": {},
   "outputs": [
    {
     "data": {
      "text/html": [
       "<div>\n",
       "<style scoped>\n",
       "    .dataframe tbody tr th:only-of-type {\n",
       "        vertical-align: middle;\n",
       "    }\n",
       "\n",
       "    .dataframe tbody tr th {\n",
       "        vertical-align: top;\n",
       "    }\n",
       "\n",
       "    .dataframe thead th {\n",
       "        text-align: right;\n",
       "    }\n",
       "</style>\n",
       "<table border=\"1\" class=\"dataframe\">\n",
       "  <thead>\n",
       "    <tr style=\"text-align: right;\">\n",
       "      <th></th>\n",
       "      <th>Tweets</th>\n",
       "    </tr>\n",
       "  </thead>\n",
       "  <tbody>\n",
       "    <tr>\n",
       "      <th>0</th>\n",
       "      <td>RT @INCIndia: If the religious minorities feel...</td>\n",
       "    </tr>\n",
       "  </tbody>\n",
       "</table>\n",
       "</div>"
      ],
      "text/plain": [
       "                                              Tweets\n",
       "0  RT @INCIndia: If the religious minorities feel..."
      ]
     },
     "metadata": {},
     "output_type": "display_data"
    }
   ],
   "source": [
    "data = pd.DataFrame(data=[tweet.text], columns=['Tweets'])\n",
    "display(data.head(10))"
   ]
  },
  {
   "cell_type": "code",
   "execution_count": 28,
   "metadata": {},
   "outputs": [
    {
     "name": "stdout",
     "output_type": "stream",
     "text": [
      "1002325794884972544\n",
      "2018-05-31 23:07:46\n",
      "Twitter for Android\n",
      "1\n",
      "0\n",
      "None\n",
      "None\n",
      "{'hashtags': [], 'symbols': [], 'user_mentions': [{'screen_name': 'officialmcafee', 'name': 'John McAfee', 'id': 961445378, 'id_str': '961445378', 'indices': [0, 15]}, {'screen_name': 'JSaneOfficial', 'name': 'Justin Sane ⚡️ $trx 🐳 {Not giving away ETH}', 'id': 997220934, 'id_str': '997220934', 'indices': [16, 30]}], 'urls': []}\n"
     ]
    }
   ],
   "source": [
    "print(tweets[0].id)\n",
    "print(tweets[0].created_at)\n",
    "print(tweets[0].source)\n",
    "print(tweets[0].favorite_count)\n",
    "print(tweets[0].retweet_count)\n",
    "print(tweets[0].geo)\n",
    "print(tweets[0].coordinates)\n",
    "print(tweets[0].entities)"
   ]
  },
  {
   "cell_type": "code",
   "execution_count": 29,
   "metadata": {},
   "outputs": [],
   "source": [
    "data['len']  = np.array([len(tweet.text) for tweet in tweets])\n",
    "data['ID']   = np.array([tweet.id for tweet in tweets])\n",
    "data['Date'] = np.array([tweet.created_at for tweet in tweets])\n",
    "data['Source'] = np.array([tweet.source for tweet in tweets])\n",
    "data['Likes']  = np.array([tweet.favorite_count for tweet in tweets])\n",
    "data['RTs']    = np.array([tweet.retweet_count for tweet in tweets])\n"
   ]
  },
  {
   "cell_type": "code",
   "execution_count": 30,
   "metadata": {},
   "outputs": [
    {
     "data": {
      "text/html": [
       "<div>\n",
       "<style scoped>\n",
       "    .dataframe tbody tr th:only-of-type {\n",
       "        vertical-align: middle;\n",
       "    }\n",
       "\n",
       "    .dataframe tbody tr th {\n",
       "        vertical-align: top;\n",
       "    }\n",
       "\n",
       "    .dataframe thead th {\n",
       "        text-align: right;\n",
       "    }\n",
       "</style>\n",
       "<table border=\"1\" class=\"dataframe\">\n",
       "  <thead>\n",
       "    <tr style=\"text-align: right;\">\n",
       "      <th></th>\n",
       "      <th>Tweets</th>\n",
       "      <th>len</th>\n",
       "      <th>ID</th>\n",
       "      <th>Date</th>\n",
       "      <th>Source</th>\n",
       "      <th>Likes</th>\n",
       "      <th>RTs</th>\n",
       "    </tr>\n",
       "  </thead>\n",
       "  <tbody>\n",
       "    <tr>\n",
       "      <th>0</th>\n",
       "      <td>@officialmcafee @JSaneOfficial John, my idol, ...</td>\n",
       "      <td>60</td>\n",
       "      <td>1002325794884972544</td>\n",
       "      <td>2018-05-31 23:07:46</td>\n",
       "      <td>Twitter for Android</td>\n",
       "      <td>1</td>\n",
       "      <td>0</td>\n",
       "    </tr>\n",
       "    <tr>\n",
       "      <th>1</th>\n",
       "      <td>RT @Claudiu86bogdan: Vote and retweet ! Let's ...</td>\n",
       "      <td>140</td>\n",
       "      <td>1002242428387000320</td>\n",
       "      <td>2018-05-31 17:36:30</td>\n",
       "      <td>Twitter for Android</td>\n",
       "      <td>0</td>\n",
       "      <td>7</td>\n",
       "    </tr>\n",
       "    <tr>\n",
       "      <th>2</th>\n",
       "      <td>RT @domain: https://t.co/9FA84WrSel just enjoy...</td>\n",
       "      <td>101</td>\n",
       "      <td>1001884476958359552</td>\n",
       "      <td>2018-05-30 17:54:08</td>\n",
       "      <td>Twitter for Android</td>\n",
       "      <td>0</td>\n",
       "      <td>2</td>\n",
       "    </tr>\n",
       "    <tr>\n",
       "      <th>3</th>\n",
       "      <td>get on the train of MTC right now. the next bi...</td>\n",
       "      <td>103</td>\n",
       "      <td>1001840430646870016</td>\n",
       "      <td>2018-05-30 14:59:06</td>\n",
       "      <td>Twitter for Android</td>\n",
       "      <td>0</td>\n",
       "      <td>0</td>\n",
       "    </tr>\n",
       "    <tr>\n",
       "      <th>4</th>\n",
       "      <td>https://t.co/aZ6ObWYBdl</td>\n",
       "      <td>23</td>\n",
       "      <td>1000478788549931009</td>\n",
       "      <td>2018-05-26 20:48:25</td>\n",
       "      <td>Twitter for Android</td>\n",
       "      <td>0</td>\n",
       "      <td>0</td>\n",
       "    </tr>\n",
       "    <tr>\n",
       "      <th>5</th>\n",
       "      <td>I voted #DIGIBYTE for #ProjectBillboardLA! Vot...</td>\n",
       "      <td>77</td>\n",
       "      <td>999794109622579200</td>\n",
       "      <td>2018-05-24 23:27:45</td>\n",
       "      <td>Twitter for Android</td>\n",
       "      <td>8</td>\n",
       "      <td>4</td>\n",
       "    </tr>\n",
       "    <tr>\n",
       "      <th>6</th>\n",
       "      <td>Go to buy $elf ASAP! it is going to the moon</td>\n",
       "      <td>44</td>\n",
       "      <td>991950693551423488</td>\n",
       "      <td>2018-05-03 08:00:49</td>\n",
       "      <td>Twitter for Android</td>\n",
       "      <td>0</td>\n",
       "      <td>1</td>\n",
       "    </tr>\n",
       "    <tr>\n",
       "      <th>7</th>\n",
       "      <td>just buy Aelf, DGB and Theta</td>\n",
       "      <td>28</td>\n",
       "      <td>989831811831287809</td>\n",
       "      <td>2018-04-27 11:41:08</td>\n",
       "      <td>Twitter for Android</td>\n",
       "      <td>0</td>\n",
       "      <td>0</td>\n",
       "    </tr>\n",
       "    <tr>\n",
       "      <th>8</th>\n",
       "      <td>in Shenzhen https://t.co/2I6Vr8EaxZ</td>\n",
       "      <td>35</td>\n",
       "      <td>987008544238022656</td>\n",
       "      <td>2018-04-19 16:42:29</td>\n",
       "      <td>Twitter for Android</td>\n",
       "      <td>1</td>\n",
       "      <td>0</td>\n",
       "    </tr>\n",
       "    <tr>\n",
       "      <th>9</th>\n",
       "      <td>Come to vote for the best future coin DGB! htt...</td>\n",
       "      <td>66</td>\n",
       "      <td>979050367701798912</td>\n",
       "      <td>2018-03-28 17:39:32</td>\n",
       "      <td>Twitter for Android</td>\n",
       "      <td>0</td>\n",
       "      <td>0</td>\n",
       "    </tr>\n",
       "  </tbody>\n",
       "</table>\n",
       "</div>"
      ],
      "text/plain": [
       "                                              Tweets  len  \\\n",
       "0  @officialmcafee @JSaneOfficial John, my idol, ...   60   \n",
       "1  RT @Claudiu86bogdan: Vote and retweet ! Let's ...  140   \n",
       "2  RT @domain: https://t.co/9FA84WrSel just enjoy...  101   \n",
       "3  get on the train of MTC right now. the next bi...  103   \n",
       "4                            https://t.co/aZ6ObWYBdl   23   \n",
       "5  I voted #DIGIBYTE for #ProjectBillboardLA! Vot...   77   \n",
       "6       Go to buy $elf ASAP! it is going to the moon   44   \n",
       "7                       just buy Aelf, DGB and Theta   28   \n",
       "8                in Shenzhen https://t.co/2I6Vr8EaxZ   35   \n",
       "9  Come to vote for the best future coin DGB! htt...   66   \n",
       "\n",
       "                    ID                Date               Source  Likes  RTs  \n",
       "0  1002325794884972544 2018-05-31 23:07:46  Twitter for Android      1    0  \n",
       "1  1002242428387000320 2018-05-31 17:36:30  Twitter for Android      0    7  \n",
       "2  1001884476958359552 2018-05-30 17:54:08  Twitter for Android      0    2  \n",
       "3  1001840430646870016 2018-05-30 14:59:06  Twitter for Android      0    0  \n",
       "4  1000478788549931009 2018-05-26 20:48:25  Twitter for Android      0    0  \n",
       "5   999794109622579200 2018-05-24 23:27:45  Twitter for Android      8    4  \n",
       "6   991950693551423488 2018-05-03 08:00:49  Twitter for Android      0    1  \n",
       "7   989831811831287809 2018-04-27 11:41:08  Twitter for Android      0    0  \n",
       "8   987008544238022656 2018-04-19 16:42:29  Twitter for Android      1    0  \n",
       "9   979050367701798912 2018-03-28 17:39:32  Twitter for Android      0    0  "
      ]
     },
     "metadata": {},
     "output_type": "display_data"
    }
   ],
   "source": [
    "display(data.head(10))"
   ]
  },
  {
   "cell_type": "code",
   "execution_count": 31,
   "metadata": {},
   "outputs": [
    {
     "name": "stdout",
     "output_type": "stream",
     "text": [
      "The lenght's average in tweets: 62.08040201005025\n"
     ]
    }
   ],
   "source": [
    "# We extract the mean of lenghts:\n",
    "mean = np.mean(data['len'])\n",
    "\n",
    "print(\"The lenght's average in tweets: {}\".format(mean))"
   ]
  },
  {
   "cell_type": "code",
   "execution_count": 32,
   "metadata": {},
   "outputs": [
    {
     "name": "stdout",
     "output_type": "stream",
     "text": [
      "The tweet with more likes is: \n",
      "Hand in hand together for future! https://t.co/Vks0rmS4Jq\n",
      "Number of likes: 25\n",
      "57 characters.\n",
      "\n",
      "The tweet with more retweets is: \n",
      "RT @anandmahindra: At first I couldn't bear to look &amp; then I was left feeling uplifted. I don't think I will ever complain again about any…\n",
      "Number of retweets: 37438\n",
      "143 characters.\n",
      "\n"
     ]
    }
   ],
   "source": [
    "# We extract the tweet with more FAVs and more RTs:\n",
    "\n",
    "fav_max = np.max(data['Likes'])\n",
    "rt_max  = np.max(data['RTs'])\n",
    "\n",
    "fav = data[data.Likes == fav_max].index[0]\n",
    "rt  = data[data.RTs == rt_max].index[0]\n",
    "\n",
    "# Max FAVs:\n",
    "print(\"The tweet with more likes is: \\n{}\".format(data['Tweets'][fav]))\n",
    "print(\"Number of likes: {}\".format(fav_max))\n",
    "print(\"{} characters.\\n\".format(data['len'][fav]))\n",
    "\n",
    "# Max RTs:\n",
    "print(\"The tweet with more retweets is: \\n{}\".format(data['Tweets'][rt]))\n",
    "print(\"Number of retweets: {}\".format(rt_max))\n",
    "print(\"{} characters.\\n\".format(data['len'][rt]))"
   ]
  },
  {
   "cell_type": "code",
   "execution_count": 33,
   "metadata": {},
   "outputs": [],
   "source": [
    "# We create time series for data:\n",
    "\n",
    "tlen = pd.Series(data=data['len'].values, index=data['Date'])\n",
    "tfav = pd.Series(data=data['Likes'].values, index=data['Date'])\n",
    "tret = pd.Series(data=data['RTs'].values, index=data['Date'])"
   ]
  },
  {
   "cell_type": "code",
   "execution_count": 34,
   "metadata": {},
   "outputs": [
    {
     "data": {
      "image/png": "[encoded data removed]",
      "text/plain": [
       "<matplotlib.figure.Figure at 0x18695308198>"
      ]
     },
     "metadata": {},
     "output_type": "display_data"
    }
   ],
   "source": [
    "# Lenghts along time:\n",
    "tlen.plot(figsize=(16,4), color='r');"
   ]
  },
  {
   "cell_type": "code",
   "execution_count": 35,
   "metadata": {},
   "outputs": [
    {
     "data": {
      "image/png": "[encoded data removed]",
      "text/plain": [
       "<matplotlib.figure.Figure at 0x18695308278>"
      ]
     },
     "metadata": {},
     "output_type": "display_data"
    }
   ],
   "source": [
    "# Likes vs retweets visualization:\n",
    "tfav.plot(figsize=(16,4), label=\"Likes\", legend=True)\n",
    "tret.plot(figsize=(16,4), label=\"Retweets\", legend=True);"
   ]
  },
  {
   "cell_type": "code",
   "execution_count": 36,
   "metadata": {},
   "outputs": [
    {
     "name": "stdout",
     "output_type": "stream",
     "text": [
      "Creation of content sources:\n",
      "* Twitter for Android\n",
      "* Twitter for iPhone\n",
      "* Twitter Web Client\n",
      "* Twitter for Websites\n",
      "* Twitter for iPad\n"
     ]
    }
   ],
   "source": [
    "# We obtain all possible sources:\n",
    "sources = []\n",
    "for source in data['Source']:\n",
    "    if source not in sources:\n",
    "        sources.append(source)\n",
    "\n",
    "# We print sources list:\n",
    "print(\"Creation of content sources:\")\n",
    "for source in sources:\n",
    "    print(\"* {}\".format(source))"
   ]
  },
  {
   "cell_type": "code",
   "execution_count": 37,
   "metadata": {},
   "outputs": [
    {
     "data": {
      "image/png": "[encoded data removed]",
      "text/plain": [
       "<matplotlib.figure.Figure at 0x186966b4c18>"
      ]
     },
     "metadata": {},
     "output_type": "display_data"
    }
   ],
   "source": [
    "# We create a numpy vector mapped to labels:\n",
    "percent = np.zeros(len(sources))\n",
    "\n",
    "for source in data['Source']:\n",
    "    for index in range(len(sources)):\n",
    "        if source == sources[index]:\n",
    "            percent[index] += 1\n",
    "            pass\n",
    "\n",
    "percent /= 100\n",
    "\n",
    "# Pie chart:\n",
    "pie_chart = pd.Series(percent, index=sources, name='Sources')\n",
    "pie_chart.plot.pie(fontsize=11, autopct='%.2f', figsize=(6, 6));"
   ]
  },
  {
   "cell_type": "code",
   "execution_count": 38,
   "metadata": {},
   "outputs": [],
   "source": [
    "from textblob import TextBlob\n",
    "import re\n",
    "\n",
    "def clean_tweet(tweet):\n",
    "    '''\n",
    "    Utility function to clean the text in a tweet by removing \n",
    "    links and special characters using regex.\n",
    "    '''\n",
    "    return ' '.join(re.sub(\"(@[A-Za-z0-9]+)|([^0-9A-Za-z \\t])|(\\w+:\\/\\/\\S+)\", \" \", tweet).split())\n",
    "\n",
    "def analize_sentiment(tweet):\n",
    "    '''\n",
    "    Utility function to classify the polarity of a tweet\n",
    "    using textblob.\n",
    "    '''\n",
    "    analysis = TextBlob(clean_tweet(tweet))\n",
    "    if analysis.sentiment.polarity > 0:\n",
    "        return 1\n",
    "    elif analysis.sentiment.polarity == 0:\n",
    "        return 0\n",
    "    else:\n",
    "        return -1"
   ]
  },
  {
   "cell_type": "code",
   "execution_count": 39,
   "metadata": {},
   "outputs": [
    {
     "data": {
      "text/html": [
       "<div>\n",
       "<style scoped>\n",
       "    .dataframe tbody tr th:only-of-type {\n",
       "        vertical-align: middle;\n",
       "    }\n",
       "\n",
       "    .dataframe tbody tr th {\n",
       "        vertical-align: top;\n",
       "    }\n",
       "\n",
       "    .dataframe thead th {\n",
       "        text-align: right;\n",
       "    }\n",
       "</style>\n",
       "<table border=\"1\" class=\"dataframe\">\n",
       "  <thead>\n",
       "    <tr style=\"text-align: right;\">\n",
       "      <th></th>\n",
       "      <th>Tweets</th>\n",
       "      <th>len</th>\n",
       "      <th>ID</th>\n",
       "      <th>Date</th>\n",
       "      <th>Source</th>\n",
       "      <th>Likes</th>\n",
       "      <th>RTs</th>\n",
       "      <th>SA</th>\n",
       "    </tr>\n",
       "  </thead>\n",
       "  <tbody>\n",
       "    <tr>\n",
       "      <th>0</th>\n",
       "      <td>@officialmcafee @JSaneOfficial John, my idol, ...</td>\n",
       "      <td>60</td>\n",
       "      <td>1002325794884972544</td>\n",
       "      <td>2018-05-31 23:07:46</td>\n",
       "      <td>Twitter for Android</td>\n",
       "      <td>1</td>\n",
       "      <td>0</td>\n",
       "      <td>0</td>\n",
       "    </tr>\n",
       "    <tr>\n",
       "      <th>1</th>\n",
       "      <td>RT @Claudiu86bogdan: Vote and retweet ! Let's ...</td>\n",
       "      <td>140</td>\n",
       "      <td>1002242428387000320</td>\n",
       "      <td>2018-05-31 17:36:30</td>\n",
       "      <td>Twitter for Android</td>\n",
       "      <td>0</td>\n",
       "      <td>7</td>\n",
       "      <td>1</td>\n",
       "    </tr>\n",
       "    <tr>\n",
       "      <th>2</th>\n",
       "      <td>RT @domain: https://t.co/9FA84WrSel just enjoy...</td>\n",
       "      <td>101</td>\n",
       "      <td>1001884476958359552</td>\n",
       "      <td>2018-05-30 17:54:08</td>\n",
       "      <td>Twitter for Android</td>\n",
       "      <td>0</td>\n",
       "      <td>2</td>\n",
       "      <td>1</td>\n",
       "    </tr>\n",
       "    <tr>\n",
       "      <th>3</th>\n",
       "      <td>get on the train of MTC right now. the next bi...</td>\n",
       "      <td>103</td>\n",
       "      <td>1001840430646870016</td>\n",
       "      <td>2018-05-30 14:59:06</td>\n",
       "      <td>Twitter for Android</td>\n",
       "      <td>0</td>\n",
       "      <td>0</td>\n",
       "      <td>1</td>\n",
       "    </tr>\n",
       "    <tr>\n",
       "      <th>4</th>\n",
       "      <td>https://t.co/aZ6ObWYBdl</td>\n",
       "      <td>23</td>\n",
       "      <td>1000478788549931009</td>\n",
       "      <td>2018-05-26 20:48:25</td>\n",
       "      <td>Twitter for Android</td>\n",
       "      <td>0</td>\n",
       "      <td>0</td>\n",
       "      <td>0</td>\n",
       "    </tr>\n",
       "    <tr>\n",
       "      <th>5</th>\n",
       "      <td>I voted #DIGIBYTE for #ProjectBillboardLA! Vot...</td>\n",
       "      <td>77</td>\n",
       "      <td>999794109622579200</td>\n",
       "      <td>2018-05-24 23:27:45</td>\n",
       "      <td>Twitter for Android</td>\n",
       "      <td>8</td>\n",
       "      <td>4</td>\n",
       "      <td>0</td>\n",
       "    </tr>\n",
       "    <tr>\n",
       "      <th>6</th>\n",
       "      <td>Go to buy $elf ASAP! it is going to the moon</td>\n",
       "      <td>44</td>\n",
       "      <td>991950693551423488</td>\n",
       "      <td>2018-05-03 08:00:49</td>\n",
       "      <td>Twitter for Android</td>\n",
       "      <td>0</td>\n",
       "      <td>1</td>\n",
       "      <td>0</td>\n",
       "    </tr>\n",
       "    <tr>\n",
       "      <th>7</th>\n",
       "      <td>just buy Aelf, DGB and Theta</td>\n",
       "      <td>28</td>\n",
       "      <td>989831811831287809</td>\n",
       "      <td>2018-04-27 11:41:08</td>\n",
       "      <td>Twitter for Android</td>\n",
       "      <td>0</td>\n",
       "      <td>0</td>\n",
       "      <td>0</td>\n",
       "    </tr>\n",
       "    <tr>\n",
       "      <th>8</th>\n",
       "      <td>in Shenzhen https://t.co/2I6Vr8EaxZ</td>\n",
       "      <td>35</td>\n",
       "      <td>987008544238022656</td>\n",
       "      <td>2018-04-19 16:42:29</td>\n",
       "      <td>Twitter for Android</td>\n",
       "      <td>1</td>\n",
       "      <td>0</td>\n",
       "      <td>0</td>\n",
       "    </tr>\n",
       "    <tr>\n",
       "      <th>9</th>\n",
       "      <td>Come to vote for the best future coin DGB! htt...</td>\n",
       "      <td>66</td>\n",
       "      <td>979050367701798912</td>\n",
       "      <td>2018-03-28 17:39:32</td>\n",
       "      <td>Twitter for Android</td>\n",
       "      <td>0</td>\n",
       "      <td>0</td>\n",
       "      <td>1</td>\n",
       "    </tr>\n",
       "  </tbody>\n",
       "</table>\n",
       "</div>"
      ],
      "text/plain": [
       "                                              Tweets  len  \\\n",
       "0  @officialmcafee @JSaneOfficial John, my idol, ...   60   \n",
       "1  RT @Claudiu86bogdan: Vote and retweet ! Let's ...  140   \n",
       "2  RT @domain: https://t.co/9FA84WrSel just enjoy...  101   \n",
       "3  get on the train of MTC right now. the next bi...  103   \n",
       "4                            https://t.co/aZ6ObWYBdl   23   \n",
       "5  I voted #DIGIBYTE for #ProjectBillboardLA! Vot...   77   \n",
       "6       Go to buy $elf ASAP! it is going to the moon   44   \n",
       "7                       just buy Aelf, DGB and Theta   28   \n",
       "8                in Shenzhen https://t.co/2I6Vr8EaxZ   35   \n",
       "9  Come to vote for the best future coin DGB! htt...   66   \n",
       "\n",
       "                    ID                Date               Source  Likes  RTs  \\\n",
       "0  1002325794884972544 2018-05-31 23:07:46  Twitter for Android      1    0   \n",
       "1  1002242428387000320 2018-05-31 17:36:30  Twitter for Android      0    7   \n",
       "2  1001884476958359552 2018-05-30 17:54:08  Twitter for Android      0    2   \n",
       "3  1001840430646870016 2018-05-30 14:59:06  Twitter for Android      0    0   \n",
       "4  1000478788549931009 2018-05-26 20:48:25  Twitter for Android      0    0   \n",
       "5   999794109622579200 2018-05-24 23:27:45  Twitter for Android      8    4   \n",
       "6   991950693551423488 2018-05-03 08:00:49  Twitter for Android      0    1   \n",
       "7   989831811831287809 2018-04-27 11:41:08  Twitter for Android      0    0   \n",
       "8   987008544238022656 2018-04-19 16:42:29  Twitter for Android      1    0   \n",
       "9   979050367701798912 2018-03-28 17:39:32  Twitter for Android      0    0   \n",
       "\n",
       "   SA  \n",
       "0   0  \n",
       "1   1  \n",
       "2   1  \n",
       "3   1  \n",
       "4   0  \n",
       "5   0  \n",
       "6   0  \n",
       "7   0  \n",
       "8   0  \n",
       "9   1  "
      ]
     },
     "metadata": {},
     "output_type": "display_data"
    }
   ],
   "source": [
    "# We create a column with the result of the analysis:\n",
    "data['SA'] = np.array([ analize_sentiment(tweet) for tweet in data['Tweets'] ])\n",
    "\n",
    "# We display the updated dataframe with the new column:\n",
    "display(data.head(10))"
   ]
  },
  {
   "cell_type": "code",
   "execution_count": 40,
   "metadata": {},
   "outputs": [
    {
     "name": "stdout",
     "output_type": "stream",
     "text": [
      "Percentage of positive tweets: 44.221105527638194%\n",
      "Percentage of neutral tweets: 50.25125628140704%\n",
      "Percentage de negative tweets: 5.527638190954774%\n"
     ]
    }
   ],
   "source": [
    "# We construct lists with classified tweets:\n",
    "\n",
    "pos_tweets = [ tweet for index, tweet in enumerate(data['Tweets']) if data['SA'][index] > 0]\n",
    "neu_tweets = [ tweet for index, tweet in enumerate(data['Tweets']) if data['SA'][index] == 0]\n",
    "neg_tweets = [ tweet for index, tweet in enumerate(data['Tweets']) if data['SA'][index] < 0]\n",
    "print(\"Percentage of positive tweets: {}%\".format(len(pos_tweets)*100/len(data['Tweets'])))\n",
    "print(\"Percentage of neutral tweets: {}%\".format(len(neu_tweets)*100/len(data['Tweets'])))\n",
    "print(\"Percentage de negative tweets: {}%\".format(len(neg_tweets)*100/len(data['Tweets'])))"
   ]
  }
 ],
 "metadata": {
  "kernelspec": {
   "display_name": "Python 3",
   "language": "python",
   "name": "python3"
  },
  "language_info": {
   "codemirror_mode": {
    "name": "ipython",
    "version": 3
   },
   "file_extension": ".py",
   "mimetype": "text/x-python",
   "name": "python",
   "nbconvert_exporter": "python",
   "pygments_lexer": "ipython3",
   "version": "3.6.4"
  }
 },
 "nbformat": 4,
 "nbformat_minor": 2
}
